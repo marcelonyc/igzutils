{
 "cells": [
  {
   "cell_type": "markdown",
   "metadata": {},
   "source": [
    "# Iguazio Platform management API Introduction"
   ]
  },
  {
   "cell_type": "markdown",
   "metadata": {},
   "source": [
    "- [Defining some variables](#defining-variables)\n",
    "- [Opening a control session](#opening-control-session)\n",
    "- [Example - Get you own user's data](#example-get-self)\n",
    "- [Example - Get data containers](#example-get-containers)\n",
    "- [Example - Create 2 example nuclio functions](#example-create-functions)\n",
    "- [Example - Get nuclio functions](#example-get-functions)\n",
    "- [Example - Create API Gateway](#example-create-apigateway)\n",
    "- [Example - Get API Gateways](#example-get-apigateways)\n",
    "- [Example - Invoke your functions via API Gateways](#example-invoke-via-apigateways)\n",
    "- [Cleanup - Remove example leftovers](#cleanup)"
   ]
  },
  {
   "cell_type": "markdown",
   "metadata": {},
   "source": [
    "<a id=\"defining-variables\"></a>\n",
    "## Defining some variables"
   ]
  },
  {
   "cell_type": "code",
   "execution_count": 1,
   "metadata": {},
   "outputs": [],
   "source": [
    "# Substitute your username and password here:\n",
    "\n",
    "IGUAZIO_USERNAME = 'admin'\n",
    "IGUAZIO_PASSWORD = 'silvester88'\n",
    "DASHBOARD_URL = 'https://datanode-dashboard'"
   ]
  },
  {
   "cell_type": "markdown",
   "metadata": {},
   "source": [
    "<a id=\"opening-control-session\"></a>\n",
    "## Opening a Control Session"
   ]
  },
  {
   "cell_type": "code",
   "execution_count": 2,
   "metadata": {},
   "outputs": [
    {
     "name": "stdout",
     "output_type": "stream",
     "text": [
      "Session opened, your session ID is: 5ad62e68-4c64-49dc-869b-4a6f2e126caf\n"
     ]
    }
   ],
   "source": [
    "import urllib3\n",
    "import requests\n",
    "import json\n",
    "import time\n",
    "import os\n",
    "\n",
    "# HACK for systems without production cert - shut up the no cert verification WARN\n",
    "urllib3.disable_warnings(urllib3.exceptions.InsecureRequestWarning)\n",
    "\n",
    "session = requests.Session()\n",
    "session.auth = (IGUAZIO_USERNAME, IGUAZIO_PASSWORD)\n",
    "auth = session.post(f'{DASHBOARD_URL}/api/sessions', verify=False)\n",
    "\n",
    "session_id = auth.json()['data']['id']\n",
    "print(f'Session opened, your session ID is: {session_id}')"
   ]
  },
  {
   "cell_type": "markdown",
   "metadata": {},
   "source": [
    "<a id=\"example-get-self\"></a>\n",
    "## Example - Get your own User's data"
   ]
  },
  {
   "cell_type": "code",
   "execution_count": 3,
   "metadata": {},
   "outputs": [
    {
     "name": "stdout",
     "output_type": "stream",
     "text": [
      "{\n",
      "  \"included\": [],\n",
      "  \"meta\": {\n",
      "    \"ctx\": \"11509044878258052005\"\n",
      "  },\n",
      "  \"data\": {\n",
      "    \"attributes\": {\n",
      "      \"username\": \"admin\",\n",
      "      \"first_name\": \"John\",\n",
      "      \"last_name\": \"Doe\",\n",
      "      \"uid\": 50,\n",
      "      \"password_changed_at\": \"2020-05-04T07:32:54.223000+00:00\",\n",
      "      \"created_at\": \"2020-05-04T07:32:54.218000+00:00\",\n",
      "      \"send_password_on_creation\": false,\n",
      "      \"assigned_policies\": [\n",
      "        \"Data\",\n",
      "        \"Security Admin\",\n",
      "        \"Application Admin\",\n",
      "        \"Function Admin\",\n",
      "        \"Service Admin\"\n",
      "      ],\n",
      "      \"updated_at\": \"2020-05-12T22:37:04.161000+00:00\",\n",
      "      \"admin_status\": \"up\",\n",
      "      \"data_access_mode\": \"enabled\",\n",
      "      \"authentication_scheme\": \"local\",\n",
      "      \"operational_status\": \"up\",\n",
      "      \"email\": \"admin-default-tenant@iguazio.com\"\n",
      "    },\n",
      "    \"type\": \"user\",\n",
      "    \"id\": \"dce476fc-3ec4-4103-a059-27c5ba008baa\"\n",
      "  }\n",
      "}\n"
     ]
    }
   ],
   "source": [
    "response = session.get(f'{DASHBOARD_URL}/api/self')\n",
    "print(json.dumps(response.json(), indent=2))"
   ]
  },
  {
   "cell_type": "markdown",
   "metadata": {},
   "source": [
    "<a id=\"example-get-containers\"></a>\n",
    "## Example - Get data containers"
   ]
  },
  {
   "cell_type": "code",
   "execution_count": 4,
   "metadata": {},
   "outputs": [
    {
     "name": "stdout",
     "output_type": "stream",
     "text": [
      "{\n",
      "  \"included\": [],\n",
      "  \"meta\": {\n",
      "    \"ctx\": \"12435627524985450772\"\n",
      "  },\n",
      "  \"data\": [\n",
      "    {\n",
      "      \"attributes\": {\n",
      "        \"name\": \"users\",\n",
      "        \"imports\": [],\n",
      "        \"created_at\": \"2020-05-04T07:28:07.048000+00:00\",\n",
      "        \"operational_status\": \"up\",\n",
      "        \"updated_at\": \"2020-05-04T07:28:07.971000+00:00\",\n",
      "        \"id\": 1026,\n",
      "        \"admin_status\": \"up\",\n",
      "        \"data_lifecycle_layers_order\": [],\n",
      "        \"data_policy_layers_order\": [\n",
      "          \"2b2bd932-51f9-4f07-8011-ab0f74a116d2\",\n",
      "          \"7e1dc942-13d5-4d76-8b7a-738e83ee6f91\"\n",
      "        ],\n",
      "        \"properties\": [\n",
      "          \"system_provided\"\n",
      "        ]\n",
      "      },\n",
      "      \"type\": \"container\",\n",
      "      \"id\": 1026\n",
      "    },\n",
      "    {\n",
      "      \"attributes\": {\n",
      "        \"name\": \"bigdata\",\n",
      "        \"imports\": [],\n",
      "        \"created_at\": \"2020-05-04T07:28:07.041000+00:00\",\n",
      "        \"operational_status\": \"up\",\n",
      "        \"updated_at\": \"2020-05-04T07:28:08.484000+00:00\",\n",
      "        \"id\": 1027,\n",
      "        \"admin_status\": \"up\",\n",
      "        \"data_lifecycle_layers_order\": [],\n",
      "        \"data_policy_layers_order\": [\n",
      "          \"057d2585-ad00-49b9-816b-bab971917191\",\n",
      "          \"d8cc1d97-56cc-4a9b-b6e0-f6d0b676a33b\"\n",
      "        ],\n",
      "        \"properties\": [\n",
      "          \"system_provided\"\n",
      "        ]\n",
      "      },\n",
      "      \"type\": \"container\",\n",
      "      \"id\": 1027\n",
      "    }\n",
      "  ]\n",
      "}\n"
     ]
    }
   ],
   "source": [
    "response = session.get(f'{DASHBOARD_URL}/api/containers')\n",
    "print(json.dumps(response.json(), indent=2))"
   ]
  },
  {
   "cell_type": "markdown",
   "metadata": {},
   "source": [
    "<a id=\"example-create-functions\"></a>\n",
    "## Example - Create 2 example nuclio functions"
   ]
  },
  {
   "cell_type": "code",
   "execution_count": 263,
   "metadata": {},
   "outputs": [
    {
     "name": "stdout",
     "output_type": "stream",
     "text": [
      "Function hello-world-example-1 already exists (That's OK!)\n",
      "Function hello-world-example-2 already exists (That's OK!)\n",
      "Done!\n"
     ]
    }
   ],
   "source": [
    "example_function_names = ['hello-world-example-1', 'hello-world-example-2']\n",
    "\n",
    "for function_name in example_function_names:\n",
    "    request = {\n",
    "        'data': {\n",
    "            'type': 'function',\n",
    "            'id': function_name,\n",
    "            'attributes': {\n",
    "                'spec': {\n",
    "                    'description': 'Showcases unstructured logging and a structured response.',\n",
    "                    'handler': 'helloworld:handler',\n",
    "                    'build': {\n",
    "                        'function_source_code': 'IyBDb3B5cmlnaHQgMjAxNyBUaGUgTnVjbGlvIEF1dGhvcnMuCiMKIyBMaWNlbnNlZCB1bmRlciB0aGUgQXBhY2hlIExpY2Vuc2UsIFZlcnNpb24gMi4wICh0aGUgIkxpY2Vuc2UiKTsKIyB5b3UgbWF5IG5vdCB1c2UgdGhpcyBmaWxlIGV4Y2VwdCBpbiBjb21wbGlhbmNlIHdpdGggdGhlIExpY2Vuc2UuCiMgWW91IG1heSBvYnRhaW4gYSBjb3B5IG9mIHRoZSBMaWNlbnNlIGF0CiMKIyAgICBodHRwOi8vd3d3LmFwYWNoZS5vcmcvbGljZW5zZXMvTElDRU5TRS0yLjAKIwojIFVubGVzcyByZXF1aXJlZCBieSBhcHBsaWNhYmxlIGxhdyBvciBhZ3JlZWQgdG8gaW4gd3JpdGluZywgc29mdHdhcmUKIyBkaXN0cmlidXRlZCB1bmRlciB0aGUgTGljZW5zZSBpcyBkaXN0cmlidXRlZCBvbiBhbiAiQVMgSVMiIEJBU0lTLAojIFdJVEhPVVQgV0FSUkFOVElFUyBPUiBDT05ESVRJT05TIE9GIEFOWSBLSU5ELCBlaXRoZXIgZXhwcmVzcyBvciBpbXBsaWVkLgojIFNlZSB0aGUgTGljZW5zZSBmb3IgdGhlIHNwZWNpZmljIGxhbmd1YWdlIGdvdmVybmluZyBwZXJtaXNzaW9ucyBhbmQKIyBsaW1pdGF0aW9ucyB1bmRlciB0aGUgTGljZW5zZS4KCgpkZWYgaGFuZGxlcihjb250ZXh0LCBldmVudCk6CiAgICBjb250ZXh0LmxvZ2dlci5pbmZvKCdUaGlzIGlzIGFuIHVuc3RydWN0dXJlZCBsb2cnKQoKICAgIHJldHVybiBjb250ZXh0LlJlc3BvbnNlKGJvZHk9J0hlbGxvLCBmcm9tIG51Y2xpbyA6XScsCiAgICAgICAgICAgICAgICAgICAgICAgICAgICBoZWFkZXJzPXt9LAogICAgICAgICAgICAgICAgICAgICAgICAgICAgY29udGVudF90eXBlPSd0ZXh0L3BsYWluJywKICAgICAgICAgICAgICAgICAgICAgICAgICAgIHN0YXR1c19jb2RlPTIwMCkK',\n",
    "                        'code_entry_type': 'sourceCode'\n",
    "                    },\n",
    "                    'runtime': 'python:3.6',\n",
    "                    'replicas': 1,\n",
    "                },\n",
    "            },\n",
    "        },\n",
    "    }\n",
    "\n",
    "    response = session.post(f'{DASHBOARD_URL}/api/functions', json=request)\n",
    "    if response.status_code == 409:\n",
    "        print(f'Function {function_name} already exists (That\\'s OK!)')\n",
    "    elif not response.ok:\n",
    "        print(f'OOPS! Failed to create {function_name}: {response.text}')\n",
    "    else:\n",
    "        print(json.dumps(response.json(), indent=2))\n",
    "    \n",
    "print('Done creating functions!')"
   ]
  },
  {
   "cell_type": "code",
   "execution_count": 265,
   "metadata": {},
   "outputs": [
    {
     "name": "stdout",
     "output_type": "stream",
     "text": [
      "Function hello-world-example-1 is ready!\n",
      "Function hello-world-example-2 is ready!\n",
      "Done waiting for functions readiness!\n"
     ]
    }
   ],
   "source": [
    "# Wait for the functions to be ready\n",
    "\n",
    "for function_name in example_function_names:\n",
    "    state = 'unknown'\n",
    "    while True:\n",
    "        response = session.get(f'{DASHBOARD_URL}/api/functions/{function_name}')\n",
    "        \n",
    "        if not response.ok:\n",
    "            raise RuntimeError(f'Unexpected response code: {response.status_code}')\n",
    "\n",
    "        response_json = response.json()\n",
    "        \n",
    "        # uncomment this to inspect the response\n",
    "        # print(json.dumps(response_json, indent=2)) \n",
    "                \n",
    "        state = response_json['data']['attributes']['status']['state']\n",
    "        if state in ['ready', 'error']:\n",
    "            break\n",
    "        else:\n",
    "            print(f'Function {function_name} is in state {state}...')\n",
    "            time.sleep(3)\n",
    "    if state == 'ready':\n",
    "        print(f'Function {function_name} is ready!')\n",
    "    else:\n",
    "        print(f'OOPS! Something went wrong and {function_name} is not ready!')\n",
    "\n",
    "print('Done waiting for functions readiness!')"
   ]
  },
  {
   "cell_type": "markdown",
   "metadata": {},
   "source": [
    "<a id=\"example-get-functions\"></a>\n",
    "## Example - Get nuclio functions"
   ]
  },
  {
   "cell_type": "code",
   "execution_count": 266,
   "metadata": {},
   "outputs": [
    {
     "name": "stdout",
     "output_type": "stream",
     "text": [
      "Retreived functions: ['hello-world-example-1', 'hello-world-example-2']\n"
     ]
    }
   ],
   "source": [
    "response = session.get(f'{DASHBOARD_URL}/api/functions')\n",
    "\n",
    "response_json = response.json()\n",
    "retrieved_function_names = [func['attributes']['metadata']['name'] for func in response_json['data']]\n",
    "print(f'Retreived functions: {retrieved_function_names}')\n",
    "\n",
    "# NOTE: uncomment to see full response json\n",
    "# print(json.dumps(response_json, indent=2))"
   ]
  },
  {
   "cell_type": "markdown",
   "metadata": {},
   "source": [
    "<a id=\"example-create-apigateway\"></a>\n",
    "## Example - Create API Gateway for the example nuclio functions"
   ]
  },
  {
   "cell_type": "code",
   "execution_count": 267,
   "metadata": {},
   "outputs": [
    {
     "name": "stdout",
     "output_type": "stream",
     "text": [
      "API Gateway with name hello-world-gateway already exists (That's OK!)\n"
     ]
    }
   ],
   "source": [
    "api_gateway_name = 'hello-world-gateway'\n",
    "namespace_domain = os.getenv('IGZ_NAMESPACE_DOMAIN')\n",
    "api_gateway_host = f'{api_gateway_name}.default.{namespace_domain}'\n",
    "\n",
    "request = {\n",
    "   'data':{\n",
    "      'attributes':{\n",
    "         'meta':{\n",
    "            'name':'example-gateway'\n",
    "         },\n",
    "         'spec':{\n",
    "            'authentication_mode':'none',\n",
    "            'host': api_gateway_host,\n",
    "            'upstreams':[\n",
    "               {\n",
    "                  'kind':'nucliofunction',\n",
    "                  'nucliofunction':{\n",
    "                     'name': example_function_names[0],\n",
    "                  }\n",
    "               },\n",
    "               {\n",
    "                  'kind':'nucliofunction',\n",
    "                  'nucliofunction':{\n",
    "                     'name': example_function_names[1],\n",
    "                  },\n",
    "                  'percentage':5\n",
    "               },\n",
    "            ],\n",
    "            'description':'My example gateway',\n",
    "            'name': api_gateway_name,\n",
    "         },\n",
    "      },\n",
    "      'type':'api_gateway',\n",
    "   },\n",
    "}\n",
    "\n",
    "\n",
    "response = session.post(f'{DASHBOARD_URL}/api/api_gateways', json=request)\n",
    "if response.status_code == 409:\n",
    "    print(f'API Gateway with name {api_gateway_name} already exists (That\\'s OK!)')\n",
    "else:\n",
    "    print(json.dumps(response.json(), indent=2))\n",
    "\n",
    "print('Done creating API gateway!')"
   ]
  },
  {
   "cell_type": "code",
   "execution_count": 269,
   "metadata": {},
   "outputs": [
    {
     "name": "stdout",
     "output_type": "stream",
     "text": [
      "API Gateway hello-world-gateway is ready!\n",
      "Done waiting for API gateway readiness!\n"
     ]
    }
   ],
   "source": [
    "# Wait for the api gateway to be ready\n",
    "\n",
    "state = 'unknown'\n",
    "while True:\n",
    "    response = session.get(f'{DASHBOARD_URL}/api/api_gateways/{api_gateway_name}')\n",
    "    \n",
    "    # keep trying on 404, it might take a bit for the api gateway to be created\n",
    "    if response.status_code == 404:\n",
    "        time.sleep(3)\n",
    "        continue\n",
    "        \n",
    "    if not response.ok:\n",
    "        raise RuntimeError(f'Unexpected response code: {response.status_code}')\n",
    "\n",
    "    response_json = response.json()\n",
    "\n",
    "    # uncomment this to inspect the response\n",
    "    # print(json.dumps(response_json, indent=2)) \n",
    "\n",
    "    state = response_json['data']['attributes']['status']['state']\n",
    "    if state in ['ready', 'error']:\n",
    "        break\n",
    "    else:\n",
    "        print(f'API Gateway {api_gateway_name} is in state {state}...')\n",
    "        time.sleep(3)\n",
    "\n",
    "if state == 'ready':\n",
    "    print(f'API Gateway {api_gateway_name} is ready!')\n",
    "else:\n",
    "    print(f'OOPS! Something went wrong and {api_gateway_name} is not ready!')\n",
    "\n",
    "print('Done waiting for API gateway readiness!')"
   ]
  },
  {
   "cell_type": "markdown",
   "metadata": {},
   "source": [
    "<a id=\"example-get-apigateways\"></a>\n",
    "## Example - GET API Gateways"
   ]
  },
  {
   "cell_type": "code",
   "execution_count": 3,
   "metadata": {},
   "outputs": [
    {
     "name": "stdout",
     "output_type": "stream",
     "text": [
      "Retreived API gateways: ['myapi']\n"
     ]
    }
   ],
   "source": [
    "response = session.get(f'{DASHBOARD_URL}/api/api_gateways')\n",
    "\n",
    "response_json = response.json()\n",
    "\n",
    "# NOTE: uncomment to see full response json\n",
    "# print(json.dumps(response_json, indent=2))\n",
    "\n",
    "api_gateway_names = [gateway['attributes']['status']['name'] for gateway in response_json['data']]\n",
    "print(f'Retreived API gateways: {api_gateway_names}')"
   ]
  },
  {
   "cell_type": "code",
   "execution_count": 9,
   "metadata": {},
   "outputs": [
    {
     "data": {
      "text/plain": [
       "{'path': '/',\n",
       " 'host': 'myapi.sk-project.default-tenant.app.yh55.iguazio-cd2.com',\n",
       " 'upstreams': [{'extra_annotations': {'entries': []},\n",
       "   'kind': 'nucliofunction',\n",
       "   'nucliofunction': {'name': 'sk-project-sklearn-server-v1'},\n",
       "   'percentage': 0},\n",
       "  {'extra_annotations': {'entries': []},\n",
       "   'kind': 'nucliofunction',\n",
       "   'nucliofunction': {'name': 'sk-project-sklearn-server-v2'},\n",
       "   'percentage': 46}],\n",
       " 'name': 'myapi',\n",
       " 'authentication_mode': 'none'}"
      ]
     },
     "execution_count": 9,
     "metadata": {},
     "output_type": "execute_result"
    }
   ],
   "source": [
    "r = session.get(f'{DASHBOARD_URL}/api/api_gateways/myapi')\n",
    "r.json()['data']['attributes']['spec']"
   ]
  },
  {
   "cell_type": "markdown",
   "metadata": {},
   "source": [
    "<a id=\"example-invoke-via-apigateways\"></a>\n",
    "## Example - Invoke your functions via API Gateways"
   ]
  },
  {
   "cell_type": "code",
   "execution_count": 271,
   "metadata": {},
   "outputs": [
    {
     "name": "stdout",
     "output_type": "stream",
     "text": [
      "API Gateway response (200): Hello, from nuclio :]\n"
     ]
    }
   ],
   "source": [
    "# Retrieve the API gateway we previous created\n",
    "response = session.get(f'{DASHBOARD_URL}/api/api_gateways/{api_gateway_name}')\n",
    "\n",
    "response_json = response.json()\n",
    "\n",
    "# NOTE: uncomment to see full response json\n",
    "# print(json.dumps(response_json, indent=2))\n",
    "\n",
    "# extract the host (which we previously provided when creating the api gateways)\n",
    "api_gateway_host = response_json['data']['attributes']['spec']['host']\n",
    "\n",
    "# launch an example request\n",
    "api_gateway_response = requests.get(f'http://{api_gateway_host}')\n",
    "\n",
    "# print the response from your newly created api gateway\n",
    "print(F'API Gateway response ({api_gateway_response.status_code}): {api_gateway_response.text}')"
   ]
  },
  {
   "cell_type": "markdown",
   "metadata": {},
   "source": [
    "<a id=\"cleanup\"></a>\n",
    "## Cleanup - Remove example leftovers"
   ]
  },
  {
   "cell_type": "code",
   "execution_count": 275,
   "metadata": {},
   "outputs": [
    {
     "name": "stdout",
     "output_type": "stream",
     "text": [
      "Removing hello-world-gateway\n",
      "204 \n",
      "Removing hello-world-example-1\n",
      "Function hello-world-example-1 already removed\n",
      "Removing hello-world-example-2\n",
      "Function hello-world-example-2 already removed\n",
      "Done cleaning up! GOOD BYE :]\n"
     ]
    }
   ],
   "source": [
    "print(f'Removing {api_gateway_name}')\n",
    "response = session.delete(f'{DASHBOARD_URL}/api/api_gateways/{api_gateway_name}')\n",
    "print(response.status_code, response.text)\n",
    "\n",
    "for function_name in example_function_names:\n",
    "    print(f'Removing {function_name}')\n",
    "    response = session.delete(f'{DASHBOARD_URL}/api/functions/{example_function_names[0]}')\n",
    "    if response.ok:\n",
    "        print(response.status_code, response.text)\n",
    "    else:\n",
    "        print(f'Function {function_name} already removed')\n",
    "\n",
    "print('Done cleaning up! GOOD BYE :]')"
   ]
  },
  {
   "cell_type": "code",
   "execution_count": null,
   "metadata": {},
   "outputs": [],
   "source": []
  }
 ],
 "metadata": {
  "kernelspec": {
   "display_name": "Python 3",
   "language": "python",
   "name": "python3"
  },
  "language_info": {
   "codemirror_mode": {
    "name": "ipython",
    "version": 3
   },
   "file_extension": ".py",
   "mimetype": "text/x-python",
   "name": "python",
   "nbconvert_exporter": "python",
   "pygments_lexer": "ipython3",
   "version": "3.6.8"
  }
 },
 "nbformat": 4,
 "nbformat_minor": 4
}
