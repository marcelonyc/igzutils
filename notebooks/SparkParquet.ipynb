{
 "cells": [
  {
   "cell_type": "code",
   "execution_count": null,
   "metadata": {},
   "outputs": [],
   "source": [
    "import os"
   ]
  },
  {
   "cell_type": "code",
   "execution_count": null,
   "metadata": {},
   "outputs": [],
   "source": [
    "from pyspark import SparkConf\n",
    "from pyspark.sql import SparkSession\n",
    "spark = SparkSession.builder.appName(\"Spark Session with Default Configurations\").getOrCreate()\n",
    "from pyspark.sql.functions import date_format,col"
   ]
  },
  {
   "cell_type": "markdown",
   "metadata": {},
   "source": [
    "### Set path to Parquet file(s) in the Iguazio Platform"
   ]
  },
  {
   "cell_type": "code",
   "execution_count": null,
   "metadata": {},
   "outputs": [],
   "source": [
    "file_path = os.path.join(os.getenv('V3IO_HOME_URL')+'/%s'% 'data/weather/weathercsv2M.csv')\n",
    "file_path"
   ]
  },
  {
   "cell_type": "markdown",
   "metadata": {},
   "source": [
    "### Load Spark Dataframe from Parquet"
   ]
  },
  {
   "cell_type": "code",
   "execution_count": 25,
   "metadata": {},
   "outputs": [
    {
     "name": "stdout",
     "output_type": "stream",
     "text": [
      "CPU times: user 3.66 ms, sys: 168 µs, total: 3.83 ms\n",
      "Wall time: 9.11 s\n"
     ]
    }
   ],
   "source": [
    "%%time\n",
    "df = spark.read\\\n",
    "    .format(\"csv\")\\\n",
    "    .option(\"header\", \"true\")\\\n",
    "    .option(\"inferSchema\", \"true\")\\\n",
    "    .load(file_path)"
   ]
  },
  {
   "cell_type": "markdown",
   "metadata": {},
   "source": [
    "### Explore Spark Dataframe"
   ]
  },
  {
   "cell_type": "code",
   "execution_count": 26,
   "metadata": {},
   "outputs": [
    {
     "name": "stdout",
     "output_type": "stream",
     "text": [
      "+------+-----+-------------------+------------------+-------------------+---------+---------+---------+-----------+--------------+-------------+-----------------------+--------------------+----------+-----------+---------+------------------+---------------+------------+----+---+-------+\n",
      "|  usaf| wban|           datetime|          latitude|          longitude|elevation|windAngle|windSpeed|temperature|seaLvlPressure|cloudCoverage|presentWeatherIndicator|pastWeatherIndicator|precipTime|precipDepth|snowDepth|       stationName|countryOrRegion|         p_k|year|day|version|\n",
      "+------+-----+-------------------+------------------+-------------------+---------+---------+---------+-----------+--------------+-------------+-----------------------+--------------------+----------+-----------+---------+------------------+---------------+------------+----+---+-------+\n",
      "|999999| 4237|2020-06-13 04:00:00|47.513999999999996|-123.81200000000001|     87.0|      0.0|      0.0|       11.7|          null|         null|                   null|                null|       1.0|        2.0|     null|     QUINAULT 4 NE|             US|999999-04237|2020| 13|    1.0|\n",
      "|999999| 4990|2020-06-30 07:20:00|            43.735| -96.62200000000001|    486.0|     null|     null|       24.0|          null|         null|                   null|                null|      null|       null|     null|SIOUX FALLS 14 NNE|             US|999999-04990|2020| 30|    1.0|\n",
      "|999999| 4223|2020-06-17 01:50:00|48.541000000000004|           -121.446|    124.0|     null|     null|       14.6|          null|         null|                   null|                null|      null|       null|     null| DARRINGTON 21 NNE|             US|999999-04223|2020| 17|    1.0|\n",
      "|999999| 4237|2020-06-16 06:55:00|47.513999999999996|-123.81200000000001|     87.0|     null|     null|        9.5|          null|         null|                   null|                null|      null|       null|     null|     QUINAULT 4 NE|             US|999999-04237|2020| 16|    1.0|\n",
      "|999999|23803|2020-06-29 06:30:00|34.821999999999996|            -89.435|    148.0|     null|     null|       23.7|          null|         null|                   null|                null|      null|       null|     null| HOLLY SPRINGS 4 N|             US|999999-23803|2020| 29|    1.0|\n",
      "|999999|23803|2020-06-13 00:35:00|34.821999999999996|            -89.435|    148.0|     null|     null|       23.4|          null|         null|                   null|                null|      null|       null|     null| HOLLY SPRINGS 4 N|             US|999999-23803|2020| 13|    1.0|\n",
      "|999999| 4237|2020-06-23 00:15:00|47.513999999999996|-123.81200000000001|     87.0|     null|     null|       22.8|          null|         null|                   null|                null|      null|       null|     null|     QUINAULT 4 NE|             US|999999-04237|2020| 23|    1.0|\n",
      "|999999| 4236|2020-06-22 08:40:00|            44.419|-123.32600000000001|     95.0|     null|     null|       11.3|          null|         null|                   null|                null|      null|       null|     null|  CORVALLIS 10 SSW|             US|999999-04236|2020| 22|    1.0|\n",
      "|999999|23803|2020-06-21 14:10:00|34.821999999999996|            -89.435|    148.0|     null|     null|       24.0|          null|         null|                   null|                null|      null|       null|     null| HOLLY SPRINGS 4 N|             US|999999-23803|2020| 21|    1.0|\n",
      "|999999| 4223|2020-06-19 13:15:00|48.541000000000004|           -121.446|    124.0|     null|     null|       11.0|          null|         null|                   null|                null|      null|       null|     null| DARRINGTON 21 NNE|             US|999999-04223|2020| 19|    1.0|\n",
      "|999999| 4236|2020-06-28 12:05:00|            44.419|-123.32600000000001|     95.0|     null|     null|       12.8|          null|         null|                   null|                null|      null|       null|     null|  CORVALLIS 10 SSW|             US|999999-04236|2020| 28|    1.0|\n",
      "|999999|12987|2020-06-27 16:50:00|            26.526| -98.06299999999999|     20.0|     null|     null|       30.2|          null|         null|                   null|                null|      null|       null|     null|   EDINBURG 17 NNE|             US|999999-12987|2020| 27|    1.0|\n",
      "|999999| 4223|2020-06-21 19:50:00|48.541000000000004|           -121.446|    124.0|     null|     null|       18.7|          null|         null|                   null|                null|      null|       null|     null| DARRINGTON 21 NNE|             US|999999-04223|2020| 21|    1.0|\n",
      "|999999|12987|2020-06-28 22:45:00|            26.526| -98.06299999999999|     20.0|     null|     null|       33.1|          null|         null|                   null|                null|      null|       null|     null|   EDINBURG 17 NNE|             US|999999-12987|2020| 28|    1.0|\n",
      "|999999| 4237|2020-06-19 21:20:00|47.513999999999996|-123.81200000000001|     87.0|     null|     null|       25.1|          null|         null|                   null|                null|      null|       null|     null|     QUINAULT 4 NE|             US|999999-04237|2020| 19|    1.0|\n",
      "|999999| 4236|2020-06-16 05:35:00|            44.419|-123.32600000000001|     95.0|     null|     null|       12.1|          null|         null|                   null|                null|      null|       null|     null|  CORVALLIS 10 SSW|             US|999999-04236|2020| 16|    1.0|\n",
      "|999999| 4994|2020-06-22 17:35:00|48.306000000000004|            -95.874|    351.0|     null|     null|       14.6|          null|         null|                   null|                null|      null|       null|     null|  GOODRIDGE 12 NNW|             US|999999-04994|2020| 22|    1.0|\n",
      "|999999| 4994|2020-06-19 21:00:00|48.306000000000004|            -95.874|    351.0|     null|      2.2|       18.2|          null|         null|                   null|                null|       1.0|        0.0|     null|  GOODRIDGE 12 NNW|             US|999999-04994|2020| 19|    1.0|\n",
      "|999999| 4994|2020-06-23 11:55:00|48.306000000000004|            -95.874|    351.0|     null|     null|       11.9|          null|         null|                   null|                null|      null|       null|     null|  GOODRIDGE 12 NNW|             US|999999-04994|2020| 23|    1.0|\n",
      "|999999| 4236|2020-06-12 02:30:00|            44.419|-123.32600000000001|     95.0|     null|     null|       19.4|          null|         null|                   null|                null|      null|       null|     null|  CORVALLIS 10 SSW|             US|999999-04236|2020| 12|    1.0|\n",
      "+------+-----+-------------------+------------------+-------------------+---------+---------+---------+-----------+--------------+-------------+-----------------------+--------------------+----------+-----------+---------+------------------+---------------+------------+----+---+-------+\n",
      "only showing top 20 rows\n",
      "\n",
      "CPU times: user 2.13 ms, sys: 9 µs, total: 2.14 ms\n",
      "Wall time: 219 ms\n"
     ]
    }
   ],
   "source": [
    "%%time\n",
    "df.show()"
   ]
  },
  {
   "cell_type": "code",
   "execution_count": null,
   "metadata": {},
   "outputs": [],
   "source": [
    "%%time\n",
    "df.printSchema()"
   ]
  },
  {
   "cell_type": "code",
   "execution_count": 27,
   "metadata": {},
   "outputs": [
    {
     "name": "stdout",
     "output_type": "stream",
     "text": [
      "CPU times: user 1.83 ms, sys: 78 µs, total: 1.91 ms\n",
      "Wall time: 6.63 ms\n"
     ]
    }
   ],
   "source": [
    "%%time\n",
    "df_part = df.withColumn(\"month\", date_format(col(\"datetime\"), \"MM\"))"
   ]
  },
  {
   "cell_type": "code",
   "execution_count": null,
   "metadata": {},
   "outputs": [],
   "source": [
    "df_part.show()"
   ]
  },
  {
   "cell_type": "markdown",
   "metadata": {},
   "source": [
    "### Print Dataframe Schema\n",
    "NOTE: We will use this schema to create a Hive table \n",
    "\n",
    "SQL file : weathercsv-parquet_external.sql"
   ]
  },
  {
   "cell_type": "code",
   "execution_count": null,
   "metadata": {},
   "outputs": [],
   "source": [
    "%%time\n",
    "df_part.printSchema()"
   ]
  },
  {
   "cell_type": "code",
   "execution_count": null,
   "metadata": {},
   "outputs": [],
   "source": [
    "%%time\n",
    "df_part.createOrReplaceTempView('weather')"
   ]
  },
  {
   "cell_type": "code",
   "execution_count": null,
   "metadata": {},
   "outputs": [],
   "source": [
    "%%time\n",
    "sqlDF = spark.sql(\"SELECT * FROM weather limit 10\")"
   ]
  },
  {
   "cell_type": "code",
   "execution_count": null,
   "metadata": {},
   "outputs": [],
   "source": [
    "%%time\n",
    "sqlDF.show()"
   ]
  },
  {
   "cell_type": "code",
   "execution_count": 29,
   "metadata": {},
   "outputs": [
    {
     "name": "stdout",
     "output_type": "stream",
     "text": [
      "CPU times: user 1.04 ms, sys: 3.07 ms, total: 4.12 ms\n",
      "Wall time: 8.01 s\n"
     ]
    }
   ],
   "source": [
    "%%time\n",
    "df_part.write.parquet(\"v3io://users/%s/data/weather_parquet/\"% os.getenv('V3io_USERNAME'), mode='overwrite',partitionBy=['year','month'])"
   ]
  },
  {
   "cell_type": "code",
   "execution_count": null,
   "metadata": {},
   "outputs": [],
   "source": [
    "spark.stop()"
   ]
  },
  {
   "cell_type": "code",
   "execution_count": null,
   "metadata": {},
   "outputs": [],
   "source": []
  }
 ],
 "metadata": {
  "kernelspec": {
   "display_name": "Python 3",
   "language": "python",
   "name": "python3"
  },
  "language_info": {
   "codemirror_mode": {
    "name": "ipython",
    "version": 3
   },
   "file_extension": ".py",
   "mimetype": "text/x-python",
   "name": "python",
   "nbconvert_exporter": "python",
   "pygments_lexer": "ipython3",
   "version": "3.6.8"
  }
 },
 "nbformat": 4,
 "nbformat_minor": 4
}
