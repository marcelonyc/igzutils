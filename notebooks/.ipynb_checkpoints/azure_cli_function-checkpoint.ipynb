{
 "cells": [
  {
   "cell_type": "code",
   "execution_count": null,
   "metadata": {},
   "outputs": [],
   "source": [
    "# nuclio: ignore\n",
    "import nuclio"
   ]
  },
  {
   "cell_type": "code",
   "execution_count": null,
   "metadata": {},
   "outputs": [],
   "source": [
    "# nuclio: start-code"
   ]
  },
  {
   "cell_type": "code",
   "execution_count": null,
   "metadata": {},
   "outputs": [],
   "source": [
    "%nuclio config kind = \"job\"\n",
    "%nuclio config spec.build.baseImage = \"python:3.6-jessie\""
   ]
  },
  {
   "cell_type": "code",
   "execution_count": null,
   "metadata": {},
   "outputs": [],
   "source": [
    "%%nuclio cmd -c \n",
    "curl -sL https://aka.ms/InstallAzureCLIDeb > /tmp/getaz.sh\n",
    "bash /tmp/getaz.sh\n",
    "ls"
   ]
  },
  {
   "cell_type": "code",
   "execution_count": null,
   "metadata": {},
   "outputs": [],
   "source": []
  },
  {
   "cell_type": "code",
   "execution_count": null,
   "metadata": {},
   "outputs": [],
   "source": [
    "# nuclio: end-code"
   ]
  },
  {
   "cell_type": "code",
   "execution_count": null,
   "metadata": {},
   "outputs": [],
   "source": [
    "# This function has no code"
   ]
  },
  {
   "cell_type": "markdown",
   "metadata": {},
   "source": [
    "### mlconfig"
   ]
  },
  {
   "cell_type": "code",
   "execution_count": null,
   "metadata": {},
   "outputs": [],
   "source": [
    "from mlrun import mlconf\n",
    "import os\n",
    "\n",
    "mlconf.dbpath = 'http://mlrun-api:8080'\n",
    "mlconf.artifact_path = mlconf.artifact_path or f'{os.environ[\"HOME\"]}/artifacts'"
   ]
  },
  {
   "cell_type": "markdown",
   "metadata": {},
   "source": [
    "### save"
   ]
  },
  {
   "cell_type": "code",
   "execution_count": null,
   "metadata": {},
   "outputs": [],
   "source": [
    "from mlrun import new_function,code_to_function, mount_v3io\n",
    "\n",
    "# create job function object from notebook code\n",
    "fn = new_function(\"azure_cli\",mode=\"pass\",kind='job')"
   ]
  },
  {
   "cell_type": "markdown",
   "metadata": {},
   "source": [
    "## tests"
   ]
  },
  {
   "cell_type": "code",
   "execution_count": null,
   "metadata": {},
   "outputs": [],
   "source": [
    "# Connection parameters\n",
    "fn.set_env('AZURE_STORAGE_KEY','XvfOz25h+q861QbOzMUV0dQWjdyPazW7nIfke2S0UmHtuTh1ccuz68CMbC0PTUv5BQ2KYtkeQ6COanE9yybxiw==')\n",
    "fn.set_env('AZURE_STORAGE_AUTH_MODE','key')\n",
    "fn.set_env('AZURE_STORAGE_ACCOUNT','igzecolab')\n",
    "fn.set_env('AZURE_STORAGE_CONNECTION_STRING','DefaultEndpointsProtocol=https;AccountName=igzecolab;AccountKey=XvfOz25h+q861QbOzMUV0dQWjdyPazW7nIfke2S0UmHtuTh1ccuz68CMbC0PTUv5BQ2KYtkeQ6COanE9yybxiw==;EndpointSuffix=core.windows.net')"
   ]
  },
  {
   "cell_type": "code",
   "execution_count": null,
   "metadata": {},
   "outputs": [],
   "source": [
    "# File upload parameters\n",
    "azure_container = 'ecolab'\n",
    "#local_file = '/User/data/weather/all_weather_data.csv'\n",
    "#target_blob = 'all_weather_data.csv'\n",
    "local_file = '/User/data/weather/weathercsv.csv'\n",
    "target_blob = 'weathercsv.csv'\n",
    "#local_file = \"/User/data/wbanmasterlist.parquet\"\n",
    "#target_blob = \"wbanmasterlist.parquet\""
   ]
  },
  {
   "cell_type": "code",
   "execution_count": null,
   "metadata": {},
   "outputs": [],
   "source": [
    "#Upload\n",
    "#fn.spec.command = \"az storage blob upload -f %s -c %s -n %s\"% (local_file , azure_container, target_blob)\n",
    "\n",
    "# Download single file\n",
    "fn.spec.command = \"az storage blob download -f %s -c %s -n %s\"% (local_file , azure_container, target_blob)\n",
    "\n",
    "# Download batch\n",
    "#fn.spec.command = \"az storage blob download-batch -d %s -s %s --pattern %s/*\"% (local_file , azure_container, target_blob)\n",
    "#az storage blob download-batch -d . -s mycontainer --pattern dir/*"
   ]
  },
  {
   "cell_type": "code",
   "execution_count": null,
   "metadata": {},
   "outputs": [],
   "source": [
    "fn.apply(mount_v3io())"
   ]
  },
  {
   "cell_type": "code",
   "execution_count": null,
   "metadata": {},
   "outputs": [],
   "source": [
    "#print(fn.to_yaml())"
   ]
  },
  {
   "cell_type": "code",
   "execution_count": null,
   "metadata": {
    "scrolled": true
   },
   "outputs": [],
   "source": [
    "### One time image build. Comment after image is created#\n",
    "#fn.build_config(image='.iguazio/azurecli',base_image='python:3.6-jessie',commands=['curl -sL https://aka.ms/InstallAzureCLIDeb > /tmp/getaz.sh && bash /tmp/getaz.sh'])\n",
    "#fn.deploy()"
   ]
  },
  {
   "cell_type": "code",
   "execution_count": null,
   "metadata": {},
   "outputs": [],
   "source": [
    "#print(fn.to_yaml())"
   ]
  },
  {
   "cell_type": "code",
   "execution_count": null,
   "metadata": {},
   "outputs": [],
   "source": [
    "fn.spec.image='.iguazio/azurecli'"
   ]
  },
  {
   "cell_type": "code",
   "execution_count": null,
   "metadata": {},
   "outputs": [],
   "source": [
    "fn.run(project='azure-utils',watch=True)"
   ]
  },
  {
   "cell_type": "code",
   "execution_count": null,
   "metadata": {},
   "outputs": [],
   "source": [
    "## File is 18GB I take a subset of the file"
   ]
  },
  {
   "cell_type": "code",
   "execution_count": null,
   "metadata": {},
   "outputs": [],
   "source": [
    "!head -1000000 /User/data/weather/weathercsv.csv > /User/data/weather/weathercsv2M.csv"
   ]
  },
  {
   "cell_type": "code",
   "execution_count": null,
   "metadata": {},
   "outputs": [],
   "source": [
    "!tail -1000000 /User/data/weather/weathercsv.csv >> /User/data/weather/weathercsv2M.csv"
   ]
  }
 ],
 "metadata": {
  "kernelspec": {
   "display_name": "Python [conda env:.conda-holler-env]",
   "language": "python",
   "name": "conda-env-.conda-holler-env-py"
  },
  "language_info": {
   "codemirror_mode": {
    "name": "ipython",
    "version": 3
   },
   "file_extension": ".py",
   "mimetype": "text/x-python",
   "name": "python",
   "nbconvert_exporter": "python",
   "pygments_lexer": "ipython3",
   "version": "3.7.7"
  }
 },
 "nbformat": 4,
 "nbformat_minor": 4
}
